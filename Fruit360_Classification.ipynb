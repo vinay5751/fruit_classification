{
  "nbformat": 4,
  "nbformat_minor": 0,
  "metadata": {
    "colab": {
      "name": "Fruit360_Classification.ipynb",
      "version": "0.3.2",
      "provenance": [],
      "collapsed_sections": [],
      "include_colab_link": true
    },
    "kernelspec": {
      "name": "python3",
      "display_name": "Python 3"
    },
    "accelerator": "GPU"
  },
  "cells": [
    {
      "cell_type": "markdown",
      "metadata": {
        "id": "view-in-github",
        "colab_type": "text"
      },
      "source": [
        "<a href=\"https://colab.research.google.com/github/vinay5751/fruit_classification/blob/master/Fruit360_Classification.ipynb\" target=\"_parent\"><img src=\"https://colab.research.google.com/assets/colab-badge.svg\" alt=\"Open In Colab\"/></a>"
      ]
    },
    {
      "metadata": {
        "id": "bNGRJW85c1m8",
        "colab_type": "code",
        "colab": {}
      },
      "cell_type": "code",
      "source": [
        "from google.colab import files"
      ],
      "execution_count": 0,
      "outputs": []
    },
    {
      "metadata": {
        "id": "JxDhMqTpc9kL",
        "colab_type": "code",
        "outputId": "51d738c4-ea3b-4b70-e9ee-2a621ac0c5d9",
        "colab": {
          "resources": {
            "http://localhost:8080/nbextensions/google.colab/files.js": {
              "data": "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",
              "ok": true,
              "headers": [
                [
                  "content-type",
                  "application/javascript"
                ]
              ],
              "status": 200,
              "status_text": ""
            }
          },
          "base_uri": "https://localhost:8080/",
          "height": 93
        }
      },
      "cell_type": "code",
      "source": [
        "files.upload()#Upload Your Kaggle API Json File"
      ],
      "execution_count": 0,
      "outputs": [
        {
          "output_type": "display_data",
          "data": {
            "text/html": [
              "\n",
              "     <input type=\"file\" id=\"files-99a759b4-d17a-4161-a26c-ff262bf01c76\" name=\"files[]\" multiple disabled />\n",
              "     <output id=\"result-99a759b4-d17a-4161-a26c-ff262bf01c76\">\n",
              "      Upload widget is only available when the cell has been executed in the\n",
              "      current browser session. Please rerun this cell to enable.\n",
              "      </output>\n",
              "      <script src=\"/nbextensions/google.colab/files.js\"></script> "
            ],
            "text/plain": [
              "<IPython.core.display.HTML object>"
            ]
          },
          "metadata": {
            "tags": []
          }
        },
        {
          "output_type": "stream",
          "text": [
            "Saving kaggle.json to kaggle.json\n"
          ],
          "name": "stdout"
        },
        {
          "output_type": "execute_result",
          "data": {
            "text/plain": [
              "{'kaggle.json': b'{\"username\":\"vinay5751\",\"key\":\"380ad085e3784ea9e95b5302e45f9de5\"}'}"
            ]
          },
          "metadata": {
            "tags": []
          },
          "execution_count": 2
        }
      ]
    },
    {
      "metadata": {
        "id": "jC80su-2dERy",
        "colab_type": "code",
        "colab": {}
      },
      "cell_type": "code",
      "source": [
        "\"Creating .kaggke Folder\"\"\"\n",
        "!mkdir -p ~/.kaggle\n",
        "\"\"\"Copying kaggle.json File To .kaggle\"\"\"\n",
        "!cp kaggle.json ~/.kaggle/\n",
        "\"\"\"Changing Access Mode Of File\"\"\"\n",
        "!chmod 600 ~/.kaggle/kaggle.json\n",
        "pass"
      ],
      "execution_count": 0,
      "outputs": []
    },
    {
      "metadata": {
        "id": "w9aMBitLdboh",
        "colab_type": "code",
        "outputId": "2f1cd1ea-aca2-46ab-8af3-564d5ae05eba",
        "colab": {
          "base_uri": "https://localhost:8080/",
          "height": 35
        }
      },
      "cell_type": "code",
      "source": [
        "\"\"\"Downloading Data From Kaggle\"\"\"\n",
        "!kaggle datasets download -d moltean/fruits #Downloading data from kaggle"
      ],
      "execution_count": 0,
      "outputs": [
        {
          "output_type": "stream",
          "text": [
            "fruits.zip: Skipping, found more recently modified local copy (use --force to force download)\n"
          ],
          "name": "stdout"
        }
      ]
    },
    {
      "metadata": {
        "id": "Fzu1z9TxdgRS",
        "colab_type": "code",
        "outputId": "e10a4ba8-75ed-443b-a8d4-46333435324c",
        "colab": {
          "base_uri": "https://localhost:8080/",
          "height": 35
        }
      },
      "cell_type": "code",
      "source": [
        "'''Extracting Downloaded File'''\n",
        "from zipfile import ZipFile\n",
        "file_name = \"/content/fruits.zip\"\n",
        "\n",
        "with ZipFile(file_name,\"r\") as zip:\n",
        "    zip.extractall()\n",
        "    print(\"Extraction Done\")"
      ],
      "execution_count": 0,
      "outputs": [
        {
          "output_type": "stream",
          "text": [
            "Extraction Done\n"
          ],
          "name": "stdout"
        }
      ]
    },
    {
      "metadata": {
        "id": "I8wShuk6d1t6",
        "colab_type": "code",
        "colab": {}
      },
      "cell_type": "code",
      "source": [
        "\"\"\"Importing Modules\"\"\"\n",
        "import numpy as np\n",
        "import matplotlib.pyplot as plt\n",
        "import cv2\n",
        "from random import shuffle\n",
        "from tqdm import tqdm\n",
        "import os\n",
        "import pandas as pd\n",
        "from sklearn.preprocessing import LabelEncoder\n",
        "from sklearn.preprocessing import OneHotEncoder"
      ],
      "execution_count": 0,
      "outputs": []
    },
    {
      "metadata": {
        "id": "htAmQ6WSfb_7",
        "colab_type": "code",
        "colab": {}
      },
      "cell_type": "code",
      "source": [
        "\"\"\"Defining Constant Variables\"\"\"\n",
        "TRAIN_DIR = '/content/fruits-360/Training/'\n",
        "TEST_DIR = '/content/fruits-360/Test/'\n",
        "IMG_SIZE = 100"
      ],
      "execution_count": 0,
      "outputs": []
    },
    {
      "metadata": {
        "id": "Wj6PtYg6f93B",
        "colab_type": "code",
        "colab": {}
      },
      "cell_type": "code",
      "source": [
        "\"\"\"This function will give label to the image path passed\"\"\"\n",
        "def image_label(img):\n",
        "    word_label = img.split(\"/\")[-1]\n",
        "    return(word_label)"
      ],
      "execution_count": 0,
      "outputs": []
    },
    {
      "metadata": {
        "id": "ahmSTI-vgtlZ",
        "colab_type": "code",
        "colab": {}
      },
      "cell_type": "code",
      "source": [
        "\"\"\"This function will generate the training data\"\"\"\n",
        "def create_training_data():\n",
        "    training_data = []\n",
        "    for img_label in os.listdir(TRAIN_DIR):\n",
        "        label = image_label(img_label)\n",
        "        path = os.path.join(TRAIN_DIR,img_label)\n",
        "        for img in tqdm(os.listdir(path)):\n",
        "            img = os.path.join(path,img)\n",
        "            img_ = cv2.imread(img)\n",
        "            img_ =cv2.cvtColor(img_,cv2.COLOR_BGR2RGB)\n",
        "            #img = cv2.resize(img_, (IMG_SIZE,IMG_SIZE))\n",
        "            training_data.append([np.array(img_),label])\n",
        "    shuffle(training_data)\n",
        "    #np.save('train_data.npy', training_data)\n",
        "    return (training_data)"
      ],
      "execution_count": 0,
      "outputs": []
    },
    {
      "metadata": {
        "id": "KqMSCH4WiZxt",
        "colab_type": "code",
        "outputId": "451f98ce-533f-4dcf-a6b9-8de211db1928",
        "colab": {
          "base_uri": "https://localhost:8080/",
          "height": 55
        }
      },
      "cell_type": "code",
      "source": [
        "\"\"\"def process_test_data():\n",
        "    testing_data = []\n",
        "    for test in os.listdir(TEST_DIR):\n",
        "        path = os.path.join(TEST_DIR,test)\n",
        "        for img in path:\n",
        "            img_name = img.split('.')[0]\n",
        "            img = cv2.imread(path,cv2.IMREAD_GRAYSCALE)\n",
        "            #img = cv2.resize(img, (IMG_SIZE,IMG_SIZE))\n",
        "            testing_data.append([np.array(img), img_name])\n",
        "        \n",
        "    shuffle(testing_data)\n",
        "    #np.save('test_data.npy', testing_data)\n",
        "    return (testing_data)\"\"\""
      ],
      "execution_count": 0,
      "outputs": [
        {
          "output_type": "execute_result",
          "data": {
            "text/plain": [
              "\"def process_test_data():\\n    testing_data = []\\n    for test in os.listdir(TEST_DIR):\\n        path = os.path.join(TEST_DIR,test)\\n        for img in path:\\n            img_name = img.split('.')[0]\\n            img = cv2.imread(path,cv2.IMREAD_GRAYSCALE)\\n            #img = cv2.resize(img, (IMG_SIZE,IMG_SIZE))\\n            testing_data.append([np.array(img), img_name])\\n        \\n    shuffle(testing_data)\\n    #np.save('test_data.npy', testing_data)\\n    return (testing_data)\""
            ]
          },
          "metadata": {
            "tags": []
          },
          "execution_count": 10
        }
      ]
    },
    {
      "metadata": {
        "id": "rwWA8g0yFv4G",
        "colab_type": "code",
        "colab": {}
      },
      "cell_type": "code",
      "source": [
        "def hot_encode(fruit_list):\n",
        "    values = np.array(fruit_list)\n",
        "    label_encoder = LabelEncoder()\n",
        "    integer_encoded = label_encoder.fit_transform(values)\n",
        "    onehot_encoder = OneHotEncoder(sparse=False)\n",
        "    integer_encoded = integer_encoded.reshape(len(integer_encoded), 1)\n",
        "    onehot_encoded = onehot_encoder.fit_transform(integer_encoded)\n",
        "    return(onehot_encoded)        "
      ],
      "execution_count": 0,
      "outputs": []
    },
    {
      "metadata": {
        "id": "97s5DiaHk4iE",
        "colab_type": "code",
        "outputId": "e86fc4c9-afaf-4cf1-ce85-4ca441ac91b3",
        "colab": {
          "base_uri": "https://localhost:8080/",
          "height": 1745
        }
      },
      "cell_type": "code",
      "source": [
        "train_data = create_training_data()"
      ],
      "execution_count": 0,
      "outputs": [
        {
          "output_type": "stream",
          "text": [
            "100%|██████████| 492/492 [00:00<00:00, 2709.03it/s]\n",
            "100%|██████████| 490/490 [00:00<00:00, 2932.62it/s]\n",
            "100%|██████████| 492/492 [00:00<00:00, 3136.55it/s]\n",
            "100%|██████████| 490/490 [00:00<00:00, 2747.56it/s]\n",
            "100%|██████████| 490/490 [00:00<00:00, 2966.05it/s]\n",
            "100%|██████████| 738/738 [00:00<00:00, 2851.19it/s]\n",
            "100%|██████████| 490/490 [00:00<00:00, 2856.21it/s]\n",
            "100%|██████████| 738/738 [00:00<00:00, 2954.80it/s]\n",
            "100%|██████████| 738/738 [00:00<00:00, 2695.73it/s]\n",
            "100%|██████████| 492/492 [00:00<00:00, 3037.00it/s]\n",
            "100%|██████████| 492/492 [00:00<00:00, 3061.55it/s]\n",
            "100%|██████████| 490/490 [00:00<00:00, 2932.47it/s]\n",
            "100%|██████████| 479/479 [00:00<00:00, 2697.50it/s]\n",
            "100%|██████████| 492/492 [00:00<00:00, 2918.12it/s]\n",
            "100%|██████████| 900/900 [00:00<00:00, 3044.91it/s]\n",
            "100%|██████████| 492/492 [00:00<00:00, 2895.34it/s]\n",
            "100%|██████████| 490/490 [00:00<00:00, 2832.53it/s]\n",
            "100%|██████████| 464/464 [00:00<00:00, 3346.39it/s]\n",
            "100%|██████████| 492/492 [00:00<00:00, 2796.48it/s]\n",
            "100%|██████████| 492/492 [00:00<00:00, 2993.52it/s]\n",
            "100%|██████████| 738/738 [00:00<00:00, 2741.31it/s]\n",
            "100%|██████████| 427/427 [00:00<00:00, 2882.52it/s]\n",
            "100%|██████████| 492/492 [00:00<00:00, 2886.95it/s]\n",
            "100%|██████████| 492/492 [00:00<00:00, 3036.43it/s]\n",
            "100%|██████████| 490/490 [00:00<00:00, 3033.48it/s]\n",
            "100%|██████████| 479/479 [00:00<00:00, 2905.69it/s]\n",
            "100%|██████████| 450/450 [00:00<00:00, 2642.34it/s]\n",
            "100%|██████████| 490/490 [00:00<00:00, 3006.29it/s]\n",
            "100%|██████████| 367/367 [00:00<00:00, 2791.02it/s]\n",
            "100%|██████████| 490/490 [00:00<00:00, 2830.85it/s]\n",
            "100%|██████████| 490/490 [00:00<00:00, 2683.30it/s]\n",
            "100%|██████████| 738/738 [00:00<00:00, 2053.27it/s]\n",
            "100%|██████████| 490/490 [00:00<00:00, 2856.67it/s]\n",
            "100%|██████████| 491/491 [00:00<00:00, 3016.70it/s]\n",
            "100%|██████████| 492/492 [00:00<00:00, 3101.70it/s]\n",
            "100%|██████████| 490/490 [00:00<00:00, 3150.23it/s]\n",
            "100%|██████████| 984/984 [00:00<00:00, 3034.31it/s]\n",
            "100%|██████████| 490/490 [00:00<00:00, 2678.17it/s]\n",
            "100%|██████████| 471/471 [00:00<00:00, 2849.14it/s]\n",
            "100%|██████████| 420/420 [00:00<00:00, 2720.96it/s]\n",
            "100%|██████████| 300/300 [00:00<00:00, 2696.35it/s]\n",
            "100%|██████████| 466/466 [00:00<00:00, 2751.77it/s]\n",
            "100%|██████████| 672/672 [00:00<00:00, 2805.42it/s]\n",
            "100%|██████████| 429/429 [00:00<00:00, 2793.80it/s]\n",
            "100%|██████████| 490/490 [00:00<00:00, 2848.89it/s]\n",
            "100%|██████████| 450/450 [00:00<00:00, 3092.73it/s]\n",
            "100%|██████████| 492/492 [00:00<00:00, 2717.96it/s]\n",
            "100%|██████████| 735/735 [00:00<00:00, 2719.51it/s]\n",
            "100%|██████████| 490/490 [00:00<00:00, 2966.49it/s]\n",
            "100%|██████████| 450/450 [00:00<00:00, 2745.23it/s]\n",
            "100%|██████████| 493/493 [00:00<00:00, 2569.97it/s]\n",
            "100%|██████████| 738/738 [00:00<00:00, 2960.86it/s]\n",
            "100%|██████████| 738/738 [00:00<00:00, 2864.95it/s]\n",
            "100%|██████████| 481/481 [00:00<00:00, 2693.56it/s]\n",
            "100%|██████████| 492/492 [00:00<00:00, 2958.29it/s]\n",
            "100%|██████████| 490/490 [00:00<00:00, 2835.98it/s]\n",
            "100%|██████████| 492/492 [00:00<00:00, 2881.03it/s]\n",
            "100%|██████████| 492/492 [00:00<00:00, 2954.40it/s]\n",
            "100%|██████████| 492/492 [00:00<00:00, 2952.97it/s]\n",
            "100%|██████████| 490/490 [00:00<00:00, 2957.90it/s]\n",
            "100%|██████████| 492/492 [00:00<00:00, 2868.88it/s]\n",
            "100%|██████████| 492/492 [00:00<00:00, 2950.19it/s]\n",
            "100%|██████████| 492/492 [00:00<00:00, 2693.80it/s]\n",
            "100%|██████████| 447/447 [00:00<00:00, 2816.81it/s]\n",
            "100%|██████████| 490/490 [00:00<00:00, 2687.10it/s]\n",
            "100%|██████████| 490/490 [00:00<00:00, 3148.52it/s]\n",
            "100%|██████████| 492/492 [00:00<00:00, 3097.31it/s]\n",
            "100%|██████████| 492/492 [00:00<00:00, 2922.93it/s]\n",
            "100%|██████████| 492/492 [00:00<00:00, 2848.56it/s]\n",
            "100%|██████████| 490/490 [00:00<00:00, 2715.27it/s]\n",
            "100%|██████████| 492/492 [00:00<00:00, 2694.37it/s]\n",
            "100%|██████████| 490/490 [00:00<00:00, 2833.78it/s]\n",
            "100%|██████████| 492/492 [00:00<00:00, 2880.07it/s]\n",
            "100%|██████████| 490/490 [00:00<00:00, 3176.61it/s]\n",
            "100%|██████████| 492/492 [00:00<00:00, 2750.80it/s]\n",
            "100%|██████████| 492/492 [00:00<00:00, 2832.90it/s]\n",
            "100%|██████████| 492/492 [00:00<00:00, 2891.84it/s]\n",
            "100%|██████████| 492/492 [00:00<00:00, 2753.17it/s]\n",
            "100%|██████████| 490/490 [00:00<00:00, 2851.55it/s]\n",
            "100%|██████████| 492/492 [00:00<00:00, 3002.52it/s]\n",
            "100%|██████████| 672/672 [00:00<00:00, 2990.05it/s]\n",
            "100%|██████████| 492/492 [00:00<00:00, 2880.54it/s]\n",
            "100%|██████████| 490/490 [00:00<00:00, 2813.47it/s]\n",
            "100%|██████████| 490/490 [00:00<00:00, 2590.60it/s]\n",
            "100%|██████████| 490/490 [00:00<00:00, 2872.50it/s]\n",
            "100%|██████████| 490/490 [00:00<00:00, 2815.72it/s]\n",
            "100%|██████████| 490/490 [00:00<00:00, 2825.28it/s]\n",
            "100%|██████████| 300/300 [00:00<00:00, 2826.41it/s]\n",
            "100%|██████████| 490/490 [00:00<00:00, 2983.30it/s]\n",
            "100%|██████████| 490/490 [00:00<00:00, 2934.99it/s]\n",
            "100%|██████████| 492/492 [00:00<00:00, 2790.70it/s]\n",
            "100%|██████████| 490/490 [00:00<00:00, 2882.64it/s]\n",
            "100%|██████████| 490/490 [00:00<00:00, 2779.67it/s]\n",
            "100%|██████████| 490/490 [00:00<00:00, 2883.69it/s]\n",
            "100%|██████████| 490/490 [00:00<00:00, 2476.18it/s]\n"
          ],
          "name": "stderr"
        }
      ]
    },
    {
      "metadata": {
        "id": "TiC2PmwnmsLM",
        "colab_type": "code",
        "outputId": "2f7a3a80-9b1b-4793-9d23-a2f94267f6ca",
        "colab": {
          "base_uri": "https://localhost:8080/",
          "height": 385
        }
      },
      "cell_type": "code",
      "source": [
        "\"\"\"This is just made to see the Label and image.\n",
        "Just change the value of j to do so\"\"\"\n",
        "j=0\n",
        "print(train_data[j][1])\n",
        "plt.imshow(train_data[j][0])"
      ],
      "execution_count": 0,
      "outputs": [
        {
          "output_type": "stream",
          "text": [
            "Apple Red Yellow 2\n"
          ],
          "name": "stdout"
        },
        {
          "output_type": "execute_result",
          "data": {
            "text/plain": [
              "<matplotlib.image.AxesImage at 0x7fb252f05358>"
            ]
          },
          "metadata": {
            "tags": []
          },
          "execution_count": 13
        },
        {
          "output_type": "display_data",
          "data": {
            "image/png": "[encoded data removed]",
            "text/plain": [
              "<Figure size 576x396 with 1 Axes>"
            ]
          },
          "metadata": {
            "tags": []
          }
        }
      ]
    },
    {
      "metadata": {
        "id": "Tmg5dx0dB1Dy",
        "colab_type": "code",
        "colab": {}
      },
      "cell_type": "code",
      "source": [
        "arr_train_data = np.array(train_data)"
      ],
      "execution_count": 0,
      "outputs": []
    },
    {
      "metadata": {
        "id": "DOdNpFeTMNBu",
        "colab_type": "code",
        "outputId": "df669eb3-a066-49f2-ea5c-d689dc3d65c4",
        "colab": {
          "base_uri": "https://localhost:8080/",
          "height": 35
        }
      },
      "cell_type": "code",
      "source": [
        "arr_train_data.shape"
      ],
      "execution_count": 0,
      "outputs": [
        {
          "output_type": "execute_result",
          "data": {
            "text/plain": [
              "(48905, 2)"
            ]
          },
          "metadata": {
            "tags": []
          },
          "execution_count": 15
        }
      ]
    },
    {
      "metadata": {
        "id": "W4V1lESGNit-",
        "colab_type": "code",
        "outputId": "9b67f624-865c-4a2e-c093-76900a05eeff",
        "colab": {
          "base_uri": "https://localhost:8080/",
          "height": 55
        }
      },
      "cell_type": "code",
      "source": [
        "a = set(arr_train_data[:,1])\n",
        "print(a)"
      ],
      "execution_count": 0,
      "outputs": [
        {
          "output_type": "stream",
          "text": [
            "{'Grape Blue', 'Tamarillo', 'Plum 2', 'Strawberry', 'Hazelnut', 'Banana Lady Finger', 'Dates', 'Peach 2', 'Pepino', 'Pomegranate', 'Tomato Cherry Red', 'Salak', 'Plum', 'Grape Pink', 'Pear Williams', 'Pear Monster', 'Chestnut', 'Apple Red 2', 'Granadilla', 'Grape White 2', 'Redcurrant', 'Avocado', 'Pear Abate', 'Kiwi', 'Huckleberry', 'Pear Kaiser', 'Cherry 2', 'Banana Red', 'Mulberry', 'Grape White', 'Apricot', 'Walnut', 'Grape White 4', 'Maracuja', 'Pitahaya Red', 'Mandarine', 'Banana', 'Orange', 'Lemon', 'Apple Golden 1', 'Pineapple Mini', 'Nectarine', 'Quince', 'Plum 3', 'Cherry 1', 'Rambutan', 'Cantaloupe 2', 'Pineapple', 'Kumquats', 'Apple Red Yellow 1', 'Apple Red Delicious', 'Apple Braeburn', 'Tomato 2', 'Cherry Rainier', 'Avocado ripe', 'Lychee', 'Cherry Wax Red', 'Cherry Wax Black', 'Apple Red 3', 'Peach', 'Papaya', 'Raspberry', 'Physalis', 'Passion Fruit', 'Mango', 'Cantaloupe 1', 'Apple Red Yellow 2', 'Apple Golden 3', 'Physalis with Husk', 'Strawberry Wedge', 'Pomelo Sweetie', 'Apple Red 1', 'Melon Piel de Sapo', 'Carambula', 'Tomato 1', 'Clementine', 'Apple Golden 2', 'Lemon Meyer', 'Grapefruit Pink', 'Cocos', 'Guava', 'Peach Flat', 'Grape White 3', 'Pear', 'Limes', 'Tangelo', 'Tomato 3', 'Tomato Maroon', 'Cactus fruit', 'Tomato 4', 'Apple Granny Smith', 'Mangostan', 'Grapefruit White', 'Kaki', 'Cherry Wax Yellow'}\n"
          ],
          "name": "stdout"
        }
      ]
    },
    {
      "metadata": {
        "id": "G4ibjF3B7uH6",
        "colab_type": "code",
        "outputId": "6d454bae-7fac-4577-cbc5-f5b3fefaf0ae",
        "colab": {
          "base_uri": "https://localhost:8080/",
          "height": 1837
        }
      },
      "cell_type": "code",
      "source": [
        "fruit_list = arr_train_data[:,1]\n",
        "k = hot_encode(fruit_list)\n",
        "dic_f = []\n",
        "for i in range(len(k)):\n",
        "    dic_f.append([k[i].argmax(),fruit_list[i]])\n",
        "dic_f = dict(dic_f)\n",
        "dic_f"
      ],
      "execution_count": 0,
      "outputs": [
        {
          "output_type": "stream",
          "text": [
            "/usr/local/lib/python3.6/dist-packages/sklearn/preprocessing/_encoders.py:371: FutureWarning: The handling of integer data will change in version 0.22. Currently, the categories are determined based on the range [0, max(values)], while in the future they will be determined based on the unique values.\n",
            "If you want the future behaviour and silence this warning, you can specify \"categories='auto'\".\n",
            "In case you used a LabelEncoder before this OneHotEncoder to convert the categories to integers, then you can now use the OneHotEncoder directly.\n",
            "  warnings.warn(msg, FutureWarning)\n"
          ],
          "name": "stderr"
        },
        {
          "output_type": "execute_result",
          "data": {
            "text/plain": [
              "{0: 'Apple Braeburn',\n",
              " 1: 'Apple Golden 1',\n",
              " 2: 'Apple Golden 2',\n",
              " 3: 'Apple Golden 3',\n",
              " 4: 'Apple Granny Smith',\n",
              " 5: 'Apple Red 1',\n",
              " 6: 'Apple Red 2',\n",
              " 7: 'Apple Red 3',\n",
              " 8: 'Apple Red Delicious',\n",
              " 9: 'Apple Red Yellow 1',\n",
              " 10: 'Apple Red Yellow 2',\n",
              " 11: 'Apricot',\n",
              " 12: 'Avocado',\n",
              " 13: 'Avocado ripe',\n",
              " 14: 'Banana',\n",
              " 15: 'Banana Lady Finger',\n",
              " 16: 'Banana Red',\n",
              " 17: 'Cactus fruit',\n",
              " 18: 'Cantaloupe 1',\n",
              " 19: 'Cantaloupe 2',\n",
              " 20: 'Carambula',\n",
              " 21: 'Cherry 1',\n",
              " 22: 'Cherry 2',\n",
              " 23: 'Cherry Rainier',\n",
              " 24: 'Cherry Wax Black',\n",
              " 25: 'Cherry Wax Red',\n",
              " 26: 'Cherry Wax Yellow',\n",
              " 27: 'Chestnut',\n",
              " 28: 'Clementine',\n",
              " 29: 'Cocos',\n",
              " 30: 'Dates',\n",
              " 31: 'Granadilla',\n",
              " 32: 'Grape Blue',\n",
              " 33: 'Grape Pink',\n",
              " 34: 'Grape White',\n",
              " 35: 'Grape White 2',\n",
              " 36: 'Grape White 3',\n",
              " 37: 'Grape White 4',\n",
              " 38: 'Grapefruit Pink',\n",
              " 39: 'Grapefruit White',\n",
              " 40: 'Guava',\n",
              " 41: 'Hazelnut',\n",
              " 42: 'Huckleberry',\n",
              " 43: 'Kaki',\n",
              " 44: 'Kiwi',\n",
              " 45: 'Kumquats',\n",
              " 46: 'Lemon',\n",
              " 47: 'Lemon Meyer',\n",
              " 48: 'Limes',\n",
              " 49: 'Lychee',\n",
              " 50: 'Mandarine',\n",
              " 51: 'Mango',\n",
              " 52: 'Mangostan',\n",
              " 53: 'Maracuja',\n",
              " 54: 'Melon Piel de Sapo',\n",
              " 55: 'Mulberry',\n",
              " 56: 'Nectarine',\n",
              " 57: 'Orange',\n",
              " 58: 'Papaya',\n",
              " 59: 'Passion Fruit',\n",
              " 60: 'Peach',\n",
              " 61: 'Peach 2',\n",
              " 62: 'Peach Flat',\n",
              " 63: 'Pear',\n",
              " 64: 'Pear Abate',\n",
              " 65: 'Pear Kaiser',\n",
              " 66: 'Pear Monster',\n",
              " 67: 'Pear Williams',\n",
              " 68: 'Pepino',\n",
              " 69: 'Physalis',\n",
              " 70: 'Physalis with Husk',\n",
              " 71: 'Pineapple',\n",
              " 72: 'Pineapple Mini',\n",
              " 73: 'Pitahaya Red',\n",
              " 74: 'Plum',\n",
              " 75: 'Plum 2',\n",
              " 76: 'Plum 3',\n",
              " 77: 'Pomegranate',\n",
              " 78: 'Pomelo Sweetie',\n",
              " 79: 'Quince',\n",
              " 80: 'Rambutan',\n",
              " 81: 'Raspberry',\n",
              " 82: 'Redcurrant',\n",
              " 83: 'Salak',\n",
              " 84: 'Strawberry',\n",
              " 85: 'Strawberry Wedge',\n",
              " 86: 'Tamarillo',\n",
              " 87: 'Tangelo',\n",
              " 88: 'Tomato 1',\n",
              " 89: 'Tomato 2',\n",
              " 90: 'Tomato 3',\n",
              " 91: 'Tomato 4',\n",
              " 92: 'Tomato Cherry Red',\n",
              " 93: 'Tomato Maroon',\n",
              " 94: 'Walnut'}"
            ]
          },
          "metadata": {
            "tags": []
          },
          "execution_count": 17
        }
      ]
    },
    {
      "metadata": {
        "id": "pZL27btfFk3J",
        "colab_type": "code",
        "colab": {}
      },
      "cell_type": "code",
      "source": [
        "\"\"\"Replacing string label with hot encoded label\"\"\"\n",
        "count = 0\n",
        "for item in k:\n",
        "    arr_train_data[:,1][count] = k[count]\n",
        "    count+=1"
      ],
      "execution_count": 0,
      "outputs": []
    },
    {
      "metadata": {
        "id": "9zXGVbIwMkvo",
        "colab_type": "code",
        "colab": {}
      },
      "cell_type": "code",
      "source": [
        "train = arr_train_data[:-10000]\n",
        "test = arr_train_data[-10000:]"
      ],
      "execution_count": 0,
      "outputs": []
    },
    {
      "metadata": {
        "id": "tHlUYpKJc8xh",
        "colab_type": "code",
        "outputId": "0f26bf79-6640-4835-b3ed-644a655bf19f",
        "colab": {
          "base_uri": "https://localhost:8080/",
          "height": 35
        }
      },
      "cell_type": "code",
      "source": [
        "train.shape"
      ],
      "execution_count": 0,
      "outputs": [
        {
          "output_type": "execute_result",
          "data": {
            "text/plain": [
              "(38905, 2)"
            ]
          },
          "metadata": {
            "tags": []
          },
          "execution_count": 20
        }
      ]
    },
    {
      "metadata": {
        "id": "fhZ4Sdntc-z5",
        "colab_type": "code",
        "outputId": "dc8e1a5c-4f47-4bce-87a6-55bcfe022f7a",
        "colab": {
          "base_uri": "https://localhost:8080/",
          "height": 35
        }
      },
      "cell_type": "code",
      "source": [
        "test.shape"
      ],
      "execution_count": 0,
      "outputs": [
        {
          "output_type": "execute_result",
          "data": {
            "text/plain": [
              "(10000, 2)"
            ]
          },
          "metadata": {
            "tags": []
          },
          "execution_count": 21
        }
      ]
    },
    {
      "metadata": {
        "id": "tGI9MYZNdF5X",
        "colab_type": "code",
        "colab": {}
      },
      "cell_type": "code",
      "source": [
        "X = np.array([i[0] for i in train]).reshape(-1,IMG_SIZE,IMG_SIZE,3)\n",
        "Y = [i[1] for i in train]\n",
        "\n",
        "test_x = np.array([i[0] for i in test]).reshape(-1,IMG_SIZE,IMG_SIZE,3)\n",
        "test_y = [i[1] for i in test]"
      ],
      "execution_count": 0,
      "outputs": []
    },
    {
      "metadata": {
        "id": "PCRbWq5J0PuX",
        "colab_type": "code",
        "colab": {}
      },
      "cell_type": "code",
      "source": [
        "Y = np.array(Y)\n",
        "test_y = np.array(test_y)"
      ],
      "execution_count": 0,
      "outputs": []
    },
    {
      "metadata": {
        "id": "rlEuk0p_3cdn",
        "colab_type": "code",
        "outputId": "86566fbf-a634-4fab-d11e-1cd314c2cc96",
        "colab": {
          "base_uri": "https://localhost:8080/",
          "height": 728
        }
      },
      "cell_type": "code",
      "source": [
        "from keras.models import Sequential\n",
        "from keras.layers import Dense, Conv2D, Flatten,MaxPooling2D,Dropout\n",
        "#create model\n",
        "model = Sequential()\n",
        "#add model layers\n",
        "model.add(Conv2D(64, kernel_size=(3,3), activation=\"relu\", input_shape=(100,100,3)))\n",
        "model.add(MaxPooling2D((3,3)))\n",
        "model.add(Conv2D(128, kernel_size=(3,3), activation=\"relu\"))\n",
        "model.add(MaxPooling2D((3,3)))\n",
        "model.add(Conv2D(256, kernel_size=(3,3), activation=\"relu\"))\n",
        "model.add(MaxPooling2D((3,3)))\n",
        "model.add(Flatten())\n",
        "model.add(Dense(500,activation=\"relu\"))\n",
        "model.add(Dropout(rate=0.2))\n",
        "model.add(Dense(256,activation=\"relu\"))\n",
        "model.add(Dropout(rate=0.2))\n",
        "model.add(Dense(95, activation=\"softmax\"))\n",
        "model.compile(optimizer='adam', loss='categorical_crossentropy', metrics=['accuracy'])\n",
        "model.summary()"
      ],
      "execution_count": 0,
      "outputs": [
        {
          "output_type": "stream",
          "text": [
            "Using TensorFlow backend.\n"
          ],
          "name": "stderr"
        },
        {
          "output_type": "stream",
          "text": [
            "WARNING:tensorflow:From /usr/local/lib/python3.6/dist-packages/tensorflow/python/framework/op_def_library.py:263: colocate_with (from tensorflow.python.framework.ops) is deprecated and will be removed in a future version.\n",
            "Instructions for updating:\n",
            "Colocations handled automatically by placer.\n",
            "WARNING:tensorflow:From /usr/local/lib/python3.6/dist-packages/keras/backend/tensorflow_backend.py:3445: calling dropout (from tensorflow.python.ops.nn_ops) with keep_prob is deprecated and will be removed in a future version.\n",
            "Instructions for updating:\n",
            "Please use `rate` instead of `keep_prob`. Rate should be set to `rate = 1 - keep_prob`.\n",
            "_________________________________________________________________\n",
            "Layer (type)                 Output Shape              Param #   \n",
            "=================================================================\n",
            "conv2d_1 (Conv2D)            (None, 98, 98, 64)        1792      \n",
            "_________________________________________________________________\n",
            "max_pooling2d_1 (MaxPooling2 (None, 32, 32, 64)        0         \n",
            "_________________________________________________________________\n",
            "conv2d_2 (Conv2D)            (None, 30, 30, 128)       73856     \n",
            "_________________________________________________________________\n",
            "max_pooling2d_2 (MaxPooling2 (None, 10, 10, 128)       0         \n",
            "_________________________________________________________________\n",
            "conv2d_3 (Conv2D)            (None, 8, 8, 256)         295168    \n",
            "_________________________________________________________________\n",
            "max_pooling2d_3 (MaxPooling2 (None, 2, 2, 256)         0         \n",
            "_________________________________________________________________\n",
            "flatten_1 (Flatten)          (None, 1024)              0         \n",
            "_________________________________________________________________\n",
            "dense_1 (Dense)              (None, 500)               512500    \n",
            "_________________________________________________________________\n",
            "dropout_1 (Dropout)          (None, 500)               0         \n",
            "_________________________________________________________________\n",
            "dense_2 (Dense)              (None, 256)               128256    \n",
            "_________________________________________________________________\n",
            "dropout_2 (Dropout)          (None, 256)               0         \n",
            "_________________________________________________________________\n",
            "dense_3 (Dense)              (None, 95)                24415     \n",
            "=================================================================\n",
            "Total params: 1,035,987\n",
            "Trainable params: 1,035,987\n",
            "Non-trainable params: 0\n",
            "_________________________________________________________________\n"
          ],
          "name": "stdout"
        }
      ]
    },
    {
      "metadata": {
        "id": "zbyWpnpv5ENL",
        "colab_type": "code",
        "outputId": "120afdab-1ace-416c-8641-50c7f31cdc2d",
        "colab": {
          "base_uri": "https://localhost:8080/",
          "height": 973
        }
      },
      "cell_type": "code",
      "source": [
        "model.fit(X,Y, validation_data=(test_x, test_y),batch_size=500,epochs=15,verbose=1)"
      ],
      "execution_count": 0,
      "outputs": [
        {
          "output_type": "stream",
          "text": [
            "WARNING:tensorflow:From /usr/local/lib/python3.6/dist-packages/tensorflow/python/ops/math_ops.py:3066: to_int32 (from tensorflow.python.ops.math_ops) is deprecated and will be removed in a future version.\n",
            "Instructions for updating:\n",
            "Use tf.cast instead.\n",
            "Train on 38905 samples, validate on 10000 samples\n",
            "Epoch 1/15\n",
            "38905/38905 [==============================] - 36s 925us/step - loss: 3.9580 - acc: 0.4056 - val_loss: 0.1775 - val_acc: 0.9475\n",
            "Epoch 2/15\n",
            "31500/38905 [=======================>......] - ETA: 4s - loss: 0.1723 - acc: 0.9448"
          ],
          "name": "stdout"
        },
        {
          "output_type": "error",
          "ename": "KeyboardInterrupt",
          "evalue": "ignored",
          "traceback": [
            "\u001b[0;31m---------------------------------------------------------------------------\u001b[0m",
            "\u001b[0;31mKeyboardInterrupt\u001b[0m                         Traceback (most recent call last)",
            "\u001b[0;32m<ipython-input-25-c3c2aa901c8f>\u001b[0m in \u001b[0;36m<module>\u001b[0;34m()\u001b[0m\n\u001b[0;32m----> 1\u001b[0;31m \u001b[0mmodel\u001b[0m\u001b[0;34m.\u001b[0m\u001b[0mfit\u001b[0m\u001b[0;34m(\u001b[0m\u001b[0mX\u001b[0m\u001b[0;34m,\u001b[0m\u001b[0mY\u001b[0m\u001b[0;34m,\u001b[0m \u001b[0mvalidation_data\u001b[0m\u001b[0;34m=\u001b[0m\u001b[0;34m(\u001b[0m\u001b[0mtest_x\u001b[0m\u001b[0;34m,\u001b[0m \u001b[0mtest_y\u001b[0m\u001b[0;34m)\u001b[0m\u001b[0;34m,\u001b[0m\u001b[0mbatch_size\u001b[0m\u001b[0;34m=\u001b[0m\u001b[0;36m500\u001b[0m\u001b[0;34m,\u001b[0m\u001b[0mepochs\u001b[0m\u001b[0;34m=\u001b[0m\u001b[0;36m15\u001b[0m\u001b[0;34m,\u001b[0m\u001b[0mverbose\u001b[0m\u001b[0;34m=\u001b[0m\u001b[0;36m1\u001b[0m\u001b[0;34m)\u001b[0m\u001b[0;34m\u001b[0m\u001b[0;34m\u001b[0m\u001b[0m\n\u001b[0m",
            "\u001b[0;32m/usr/local/lib/python3.6/dist-packages/keras/engine/training.py\u001b[0m in \u001b[0;36mfit\u001b[0;34m(self, x, y, batch_size, epochs, verbose, callbacks, validation_split, validation_data, shuffle, class_weight, sample_weight, initial_epoch, steps_per_epoch, validation_steps, **kwargs)\u001b[0m\n\u001b[1;32m   1037\u001b[0m                                         \u001b[0minitial_epoch\u001b[0m\u001b[0;34m=\u001b[0m\u001b[0minitial_epoch\u001b[0m\u001b[0;34m,\u001b[0m\u001b[0;34m\u001b[0m\u001b[0;34m\u001b[0m\u001b[0m\n\u001b[1;32m   1038\u001b[0m                                         \u001b[0msteps_per_epoch\u001b[0m\u001b[0;34m=\u001b[0m\u001b[0msteps_per_epoch\u001b[0m\u001b[0;34m,\u001b[0m\u001b[0;34m\u001b[0m\u001b[0;34m\u001b[0m\u001b[0m\n\u001b[0;32m-> 1039\u001b[0;31m                                         validation_steps=validation_steps)\n\u001b[0m\u001b[1;32m   1040\u001b[0m \u001b[0;34m\u001b[0m\u001b[0m\n\u001b[1;32m   1041\u001b[0m     def evaluate(self, x=None, y=None,\n",
            "\u001b[0;32m/usr/local/lib/python3.6/dist-packages/keras/engine/training_arrays.py\u001b[0m in \u001b[0;36mfit_loop\u001b[0;34m(model, f, ins, out_labels, batch_size, epochs, verbose, callbacks, val_f, val_ins, shuffle, callback_metrics, initial_epoch, steps_per_epoch, validation_steps)\u001b[0m\n\u001b[1;32m    197\u001b[0m                     \u001b[0mins_batch\u001b[0m\u001b[0;34m[\u001b[0m\u001b[0mi\u001b[0m\u001b[0;34m]\u001b[0m \u001b[0;34m=\u001b[0m \u001b[0mins_batch\u001b[0m\u001b[0;34m[\u001b[0m\u001b[0mi\u001b[0m\u001b[0;34m]\u001b[0m\u001b[0;34m.\u001b[0m\u001b[0mtoarray\u001b[0m\u001b[0;34m(\u001b[0m\u001b[0;34m)\u001b[0m\u001b[0;34m\u001b[0m\u001b[0;34m\u001b[0m\u001b[0m\n\u001b[1;32m    198\u001b[0m \u001b[0;34m\u001b[0m\u001b[0m\n\u001b[0;32m--> 199\u001b[0;31m                 \u001b[0mouts\u001b[0m \u001b[0;34m=\u001b[0m \u001b[0mf\u001b[0m\u001b[0;34m(\u001b[0m\u001b[0mins_batch\u001b[0m\u001b[0;34m)\u001b[0m\u001b[0;34m\u001b[0m\u001b[0;34m\u001b[0m\u001b[0m\n\u001b[0m\u001b[1;32m    200\u001b[0m                 \u001b[0mouts\u001b[0m \u001b[0;34m=\u001b[0m \u001b[0mto_list\u001b[0m\u001b[0;34m(\u001b[0m\u001b[0mouts\u001b[0m\u001b[0;34m)\u001b[0m\u001b[0;34m\u001b[0m\u001b[0;34m\u001b[0m\u001b[0m\n\u001b[1;32m    201\u001b[0m                 \u001b[0;32mfor\u001b[0m \u001b[0ml\u001b[0m\u001b[0;34m,\u001b[0m \u001b[0mo\u001b[0m \u001b[0;32min\u001b[0m \u001b[0mzip\u001b[0m\u001b[0;34m(\u001b[0m\u001b[0mout_labels\u001b[0m\u001b[0;34m,\u001b[0m \u001b[0mouts\u001b[0m\u001b[0;34m)\u001b[0m\u001b[0;34m:\u001b[0m\u001b[0;34m\u001b[0m\u001b[0;34m\u001b[0m\u001b[0m\n",
            "\u001b[0;32m/usr/local/lib/python3.6/dist-packages/keras/backend/tensorflow_backend.py\u001b[0m in \u001b[0;36m__call__\u001b[0;34m(self, inputs)\u001b[0m\n\u001b[1;32m   2713\u001b[0m                 \u001b[0;32mreturn\u001b[0m \u001b[0mself\u001b[0m\u001b[0;34m.\u001b[0m\u001b[0m_legacy_call\u001b[0m\u001b[0;34m(\u001b[0m\u001b[0minputs\u001b[0m\u001b[0;34m)\u001b[0m\u001b[0;34m\u001b[0m\u001b[0;34m\u001b[0m\u001b[0m\n\u001b[1;32m   2714\u001b[0m \u001b[0;34m\u001b[0m\u001b[0m\n\u001b[0;32m-> 2715\u001b[0;31m             \u001b[0;32mreturn\u001b[0m \u001b[0mself\u001b[0m\u001b[0;34m.\u001b[0m\u001b[0m_call\u001b[0m\u001b[0;34m(\u001b[0m\u001b[0minputs\u001b[0m\u001b[0;34m)\u001b[0m\u001b[0;34m\u001b[0m\u001b[0;34m\u001b[0m\u001b[0m\n\u001b[0m\u001b[1;32m   2716\u001b[0m         \u001b[0;32melse\u001b[0m\u001b[0;34m:\u001b[0m\u001b[0;34m\u001b[0m\u001b[0;34m\u001b[0m\u001b[0m\n\u001b[1;32m   2717\u001b[0m             \u001b[0;32mif\u001b[0m \u001b[0mpy_any\u001b[0m\u001b[0;34m(\u001b[0m\u001b[0mis_tensor\u001b[0m\u001b[0;34m(\u001b[0m\u001b[0mx\u001b[0m\u001b[0;34m)\u001b[0m \u001b[0;32mfor\u001b[0m \u001b[0mx\u001b[0m \u001b[0;32min\u001b[0m \u001b[0minputs\u001b[0m\u001b[0;34m)\u001b[0m\u001b[0;34m:\u001b[0m\u001b[0;34m\u001b[0m\u001b[0;34m\u001b[0m\u001b[0m\n",
            "\u001b[0;32m/usr/local/lib/python3.6/dist-packages/keras/backend/tensorflow_backend.py\u001b[0m in \u001b[0;36m_call\u001b[0;34m(self, inputs)\u001b[0m\n\u001b[1;32m   2673\u001b[0m             \u001b[0mfetched\u001b[0m \u001b[0;34m=\u001b[0m \u001b[0mself\u001b[0m\u001b[0;34m.\u001b[0m\u001b[0m_callable_fn\u001b[0m\u001b[0;34m(\u001b[0m\u001b[0;34m*\u001b[0m\u001b[0marray_vals\u001b[0m\u001b[0;34m,\u001b[0m \u001b[0mrun_metadata\u001b[0m\u001b[0;34m=\u001b[0m\u001b[0mself\u001b[0m\u001b[0;34m.\u001b[0m\u001b[0mrun_metadata\u001b[0m\u001b[0;34m)\u001b[0m\u001b[0;34m\u001b[0m\u001b[0;34m\u001b[0m\u001b[0m\n\u001b[1;32m   2674\u001b[0m         \u001b[0;32melse\u001b[0m\u001b[0;34m:\u001b[0m\u001b[0;34m\u001b[0m\u001b[0;34m\u001b[0m\u001b[0m\n\u001b[0;32m-> 2675\u001b[0;31m             \u001b[0mfetched\u001b[0m \u001b[0;34m=\u001b[0m \u001b[0mself\u001b[0m\u001b[0;34m.\u001b[0m\u001b[0m_callable_fn\u001b[0m\u001b[0;34m(\u001b[0m\u001b[0;34m*\u001b[0m\u001b[0marray_vals\u001b[0m\u001b[0;34m)\u001b[0m\u001b[0;34m\u001b[0m\u001b[0;34m\u001b[0m\u001b[0m\n\u001b[0m\u001b[1;32m   2676\u001b[0m         \u001b[0;32mreturn\u001b[0m \u001b[0mfetched\u001b[0m\u001b[0;34m[\u001b[0m\u001b[0;34m:\u001b[0m\u001b[0mlen\u001b[0m\u001b[0;34m(\u001b[0m\u001b[0mself\u001b[0m\u001b[0;34m.\u001b[0m\u001b[0moutputs\u001b[0m\u001b[0;34m)\u001b[0m\u001b[0;34m]\u001b[0m\u001b[0;34m\u001b[0m\u001b[0;34m\u001b[0m\u001b[0m\n\u001b[1;32m   2677\u001b[0m \u001b[0;34m\u001b[0m\u001b[0m\n",
            "\u001b[0;32m/usr/local/lib/python3.6/dist-packages/tensorflow/python/client/session.py\u001b[0m in \u001b[0;36m__call__\u001b[0;34m(self, *args, **kwargs)\u001b[0m\n\u001b[1;32m   1437\u001b[0m           ret = tf_session.TF_SessionRunCallable(\n\u001b[1;32m   1438\u001b[0m               \u001b[0mself\u001b[0m\u001b[0;34m.\u001b[0m\u001b[0m_session\u001b[0m\u001b[0;34m.\u001b[0m\u001b[0m_session\u001b[0m\u001b[0;34m,\u001b[0m \u001b[0mself\u001b[0m\u001b[0;34m.\u001b[0m\u001b[0m_handle\u001b[0m\u001b[0;34m,\u001b[0m \u001b[0margs\u001b[0m\u001b[0;34m,\u001b[0m \u001b[0mstatus\u001b[0m\u001b[0;34m,\u001b[0m\u001b[0;34m\u001b[0m\u001b[0;34m\u001b[0m\u001b[0m\n\u001b[0;32m-> 1439\u001b[0;31m               run_metadata_ptr)\n\u001b[0m\u001b[1;32m   1440\u001b[0m         \u001b[0;32mif\u001b[0m \u001b[0mrun_metadata\u001b[0m\u001b[0;34m:\u001b[0m\u001b[0;34m\u001b[0m\u001b[0;34m\u001b[0m\u001b[0m\n\u001b[1;32m   1441\u001b[0m           \u001b[0mproto_data\u001b[0m \u001b[0;34m=\u001b[0m \u001b[0mtf_session\u001b[0m\u001b[0;34m.\u001b[0m\u001b[0mTF_GetBuffer\u001b[0m\u001b[0;34m(\u001b[0m\u001b[0mrun_metadata_ptr\u001b[0m\u001b[0;34m)\u001b[0m\u001b[0;34m\u001b[0m\u001b[0;34m\u001b[0m\u001b[0m\n",
            "\u001b[0;31mKeyboardInterrupt\u001b[0m: "
          ]
        }
      ]
    },
    {
      "metadata": {
        "id": "5PugN6ieD-UX",
        "colab_type": "code",
        "colab": {}
      },
      "cell_type": "code",
      "source": [
        "img = cv2.imread(\"/content/straw.jpeg\")#this image does not belong to testing set, it is a downloaded image\n",
        "img = cv2.cvtColor(img,cv2.COLOR_BGR2RGB)\n",
        "img = cv2.resize(img, (IMG_SIZE,IMG_SIZE))\n",
        "img = np.array(img)\n",
        "img = img.reshape(-1,100,100,3)"
      ],
      "execution_count": 0,
      "outputs": []
    },
    {
      "metadata": {
        "id": "xekCPCRDE1MQ",
        "colab_type": "code",
        "colab": {}
      },
      "cell_type": "code",
      "source": [
        "plt.imshow(img.reshape(100,100,3))"
      ],
      "execution_count": 0,
      "outputs": []
    },
    {
      "metadata": {
        "id": "ipSaKj_kBKev",
        "colab_type": "code",
        "colab": {}
      },
      "cell_type": "code",
      "source": [
        "predict = model.predict([img])"
      ],
      "execution_count": 0,
      "outputs": []
    },
    {
      "metadata": {
        "id": "UGLE0h9dE97E",
        "colab_type": "code",
        "colab": {}
      },
      "cell_type": "code",
      "source": [
        "dic_f[predict.argmax()]"
      ],
      "execution_count": 0,
      "outputs": []
    }
  ]
}