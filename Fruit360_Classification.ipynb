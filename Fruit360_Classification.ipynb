{
  "nbformat": 4,
  "nbformat_minor": 0,
  "metadata": {
    "colab": {
      "name": "Fruit360_Classification.ipynb",
      "version": "0.3.2",
      "provenance": [],
      "collapsed_sections": [],
      "include_colab_link": true
    },
    "kernelspec": {
      "name": "python3",
      "display_name": "Python 3"
    },
    "accelerator": "GPU"
  },
  "cells": [
    {
      "cell_type": "markdown",
      "metadata": {
        "id": "view-in-github",
        "colab_type": "text"
      },
      "source": [
        "<a href=\"https://colab.research.google.com/github/vinay5751/fruit_classification/blob/master/Fruit360_Classification.ipynb\" target=\"_parent\"><img src=\"https://colab.research.google.com/assets/colab-badge.svg\" alt=\"Open In Colab\"/></a>"
      ]
    },
    {
      "metadata": {
        "id": "bNGRJW85c1m8",
        "colab_type": "code",
        "colab": {}
      },
      "cell_type": "code",
      "source": [
        "from google.colab import files"
      ],
      "execution_count": 0,
      "outputs": []
    },
    {
      "metadata": {
        "id": "JxDhMqTpc9kL",
        "colab_type": "code",
        "outputId": "1d243e9a-d523-4802-b239-179a9269a4c1",
        "colab": {
          "resources": {
            "http://localhost:8080/nbextensions/google.colab/files.js": {
              "data": "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",
              "ok": true,
              "headers": [
                [
                  "content-type",
                  "application/javascript"
                ]
              ],
              "status": 200,
              "status_text": ""
            }
          },
          "base_uri": "https://localhost:8080/",
          "height": 57
        }
      },
      "cell_type": "code",
      "source": [
        "files.upload()#Upload Your Kaggle API Json File"
      ],
      "execution_count": 24,
      "outputs": [
        {
          "output_type": "display_data",
          "data": {
            "text/html": [
              "\n",
              "     <input type=\"file\" id=\"files-8bb309e2-1801-4f09-8c57-3553dc0663df\" name=\"files[]\" multiple disabled />\n",
              "     <output id=\"result-8bb309e2-1801-4f09-8c57-3553dc0663df\">\n",
              "      Upload widget is only available when the cell has been executed in the\n",
              "      current browser session. Please rerun this cell to enable.\n",
              "      </output>\n",
              "      <script src=\"/nbextensions/google.colab/files.js\"></script> "
            ],
            "text/plain": [
              "<IPython.core.display.HTML object>"
            ]
          },
          "metadata": {
            "tags": []
          }
        },
        {
          "output_type": "execute_result",
          "data": {
            "text/plain": [
              "{}"
            ]
          },
          "metadata": {
            "tags": []
          },
          "execution_count": 24
        }
      ]
    },
    {
      "metadata": {
        "id": "jC80su-2dERy",
        "colab_type": "code",
        "colab": {}
      },
      "cell_type": "code",
      "source": [
        "\"Creating .kaggke Folder\"\"\"\n",
        "!mkdir -p ~/.kaggle\n",
        "\"\"\"Copying kaggle.json File To .kaggle\"\"\"\n",
        "!cp kaggle.json ~/.kaggle/\n",
        "\"\"\"Changing Access Mode Of File\"\"\"\n",
        "!chmod 600 ~/.kaggle/kaggle.json\n",
        "pass"
      ],
      "execution_count": 0,
      "outputs": []
    },
    {
      "metadata": {
        "id": "w9aMBitLdboh",
        "colab_type": "code",
        "outputId": "91d88442-a930-4344-86da-423b65a81102",
        "colab": {
          "base_uri": "https://localhost:8080/",
          "height": 35
        }
      },
      "cell_type": "code",
      "source": [
        "\"\"\"Downloading Data From Kaggle\"\"\"\n",
        "!kaggle datasets download -d moltean/fruits #Downloading data from kaggle"
      ],
      "execution_count": 26,
      "outputs": [
        {
          "output_type": "stream",
          "text": [
            "fruits.zip: Skipping, found more recently modified local copy (use --force to force download)\n"
          ],
          "name": "stdout"
        }
      ]
    },
    {
      "metadata": {
        "id": "Fzu1z9TxdgRS",
        "colab_type": "code",
        "outputId": "2df91bae-c184-4172-ab46-5c696c45488f",
        "colab": {
          "base_uri": "https://localhost:8080/",
          "height": 35
        }
      },
      "cell_type": "code",
      "source": [
        "'''Extracting Downloaded File'''\n",
        "from zipfile import ZipFile\n",
        "file_name = \"/content/fruits.zip\"\n",
        "\n",
        "with ZipFile(file_name,\"r\") as zip:\n",
        "    zip.extractall()\n",
        "    print(\"Extraction Done\")"
      ],
      "execution_count": 27,
      "outputs": [
        {
          "output_type": "stream",
          "text": [
            "Extraction Done\n"
          ],
          "name": "stdout"
        }
      ]
    },
    {
      "metadata": {
        "id": "I8wShuk6d1t6",
        "colab_type": "code",
        "colab": {}
      },
      "cell_type": "code",
      "source": [
        "\"\"\"Importing Modules\"\"\"\n",
        "import numpy as np\n",
        "import matplotlib.pyplot as plt\n",
        "import cv2\n",
        "from random import shuffle\n",
        "from tqdm import tqdm\n",
        "import os\n",
        "import pandas as pd\n",
        "from sklearn.preprocessing import LabelEncoder\n",
        "from sklearn.preprocessing import OneHotEncoder"
      ],
      "execution_count": 0,
      "outputs": []
    },
    {
      "metadata": {
        "id": "htAmQ6WSfb_7",
        "colab_type": "code",
        "colab": {}
      },
      "cell_type": "code",
      "source": [
        "\"\"\"Defining Constant Variables\"\"\"\n",
        "TRAIN_DIR = '/content/fruits-360/Training/'\n",
        "TEST_DIR = '/content/fruits-360/Test/'\n",
        "IMG_SIZE = 100"
      ],
      "execution_count": 0,
      "outputs": []
    },
    {
      "metadata": {
        "id": "Wj6PtYg6f93B",
        "colab_type": "code",
        "colab": {}
      },
      "cell_type": "code",
      "source": [
        "\"\"\"This function will give label to the image path passed\"\"\"\n",
        "def image_label(img):\n",
        "    word_label = img.split(\"/\")[-1]\n",
        "    return(word_label)"
      ],
      "execution_count": 0,
      "outputs": []
    },
    {
      "metadata": {
        "id": "ahmSTI-vgtlZ",
        "colab_type": "code",
        "colab": {}
      },
      "cell_type": "code",
      "source": [
        "\"\"\"This function will generate the training data\"\"\"\n",
        "def create_training_data():\n",
        "    training_data = []\n",
        "    for img_label in os.listdir(TRAIN_DIR):\n",
        "        label = image_label(img_label)\n",
        "        path = os.path.join(TRAIN_DIR,img_label)\n",
        "        for img in tqdm(os.listdir(path)):\n",
        "            img = os.path.join(path,img)\n",
        "            img_ = cv2.imread(img)\n",
        "            img_ =cv2.cvtColor(img_,cv2.COLOR_BGR2RGB)\n",
        "            #img = cv2.resize(img_, (IMG_SIZE,IMG_SIZE))\n",
        "            training_data.append([np.array(img_),label])\n",
        "    shuffle(training_data)\n",
        "    #np.save('train_data.npy', training_data)\n",
        "    return (training_data)"
      ],
      "execution_count": 0,
      "outputs": []
    },
    {
      "metadata": {
        "id": "KqMSCH4WiZxt",
        "colab_type": "code",
        "outputId": "1b42adb4-be73-4c52-ae7c-34ff3fd7a0f2",
        "colab": {
          "base_uri": "https://localhost:8080/",
          "height": 55
        }
      },
      "cell_type": "code",
      "source": [
        "\"\"\"def process_test_data():\n",
        "    testing_data = []\n",
        "    for test in os.listdir(TEST_DIR):\n",
        "        path = os.path.join(TEST_DIR,test)\n",
        "        for img in path:\n",
        "            img_name = img.split('.')[0]\n",
        "            img = cv2.imread(path,cv2.IMREAD_GRAYSCALE)\n",
        "            #img = cv2.resize(img, (IMG_SIZE,IMG_SIZE))\n",
        "            testing_data.append([np.array(img), img_name])\n",
        "        \n",
        "    shuffle(testing_data)\n",
        "    #np.save('test_data.npy', testing_data)\n",
        "    return (testing_data)\"\"\""
      ],
      "execution_count": 32,
      "outputs": [
        {
          "output_type": "execute_result",
          "data": {
            "text/plain": [
              "\"def process_test_data():\\n    testing_data = []\\n    for test in os.listdir(TEST_DIR):\\n        path = os.path.join(TEST_DIR,test)\\n        for img in path:\\n            img_name = img.split('.')[0]\\n            img = cv2.imread(path,cv2.IMREAD_GRAYSCALE)\\n            #img = cv2.resize(img, (IMG_SIZE,IMG_SIZE))\\n            testing_data.append([np.array(img), img_name])\\n        \\n    shuffle(testing_data)\\n    #np.save('test_data.npy', testing_data)\\n    return (testing_data)\""
            ]
          },
          "metadata": {
            "tags": []
          },
          "execution_count": 32
        }
      ]
    },
    {
      "metadata": {
        "id": "rwWA8g0yFv4G",
        "colab_type": "code",
        "colab": {}
      },
      "cell_type": "code",
      "source": [
        "def hot_encode(fruit_list):\n",
        "    values = np.array(fruit_list)\n",
        "    label_encoder = LabelEncoder()\n",
        "    integer_encoded = label_encoder.fit_transform(values)\n",
        "    onehot_encoder = OneHotEncoder(sparse=False)\n",
        "    integer_encoded = integer_encoded.reshape(len(integer_encoded), 1)\n",
        "    onehot_encoded = onehot_encoder.fit_transform(integer_encoded)\n",
        "    return(onehot_encoded)        "
      ],
      "execution_count": 0,
      "outputs": []
    },
    {
      "metadata": {
        "id": "97s5DiaHk4iE",
        "colab_type": "code",
        "outputId": "b50fa5c3-1bee-4cc4-83e4-3205ec83389a",
        "colab": {
          "base_uri": "https://localhost:8080/",
          "height": 1745
        }
      },
      "cell_type": "code",
      "source": [
        "train_data = create_training_data()"
      ],
      "execution_count": 34,
      "outputs": [
        {
          "output_type": "stream",
          "text": [
            "100%|██████████| 481/481 [00:00<00:00, 1631.71it/s]\n",
            "100%|██████████| 492/492 [00:00<00:00, 1876.90it/s]\n",
            "100%|██████████| 490/490 [00:00<00:00, 1676.72it/s]\n",
            "100%|██████████| 738/738 [00:00<00:00, 1650.23it/s]\n",
            "100%|██████████| 367/367 [00:00<00:00, 1670.28it/s]\n",
            "100%|██████████| 738/738 [00:00<00:00, 1650.09it/s]\n",
            "100%|██████████| 900/900 [00:00<00:00, 1724.84it/s]\n",
            "100%|██████████| 492/492 [00:00<00:00, 1462.62it/s]\n",
            "100%|██████████| 492/492 [00:00<00:00, 1693.27it/s]\n",
            "100%|██████████| 492/492 [00:00<00:00, 1705.32it/s]\n",
            "100%|██████████| 300/300 [00:00<00:00, 1634.49it/s]\n",
            "100%|██████████| 672/672 [00:00<00:00, 1611.64it/s]\n",
            "100%|██████████| 492/492 [00:00<00:00, 1804.52it/s]\n",
            "100%|██████████| 492/492 [00:00<00:00, 1657.67it/s]\n",
            "100%|██████████| 672/672 [00:00<00:00, 1598.62it/s]\n",
            "100%|██████████| 492/492 [00:00<00:00, 1759.75it/s]\n",
            "100%|██████████| 471/471 [00:00<00:00, 1749.92it/s]\n",
            "100%|██████████| 479/479 [00:00<00:00, 1536.20it/s]\n",
            "100%|██████████| 491/491 [00:00<00:00, 1738.01it/s]\n",
            "100%|██████████| 490/490 [00:00<00:00, 1533.61it/s]\n",
            "100%|██████████| 492/492 [00:00<00:00, 1441.22it/s]\n",
            "100%|██████████| 490/490 [00:00<00:00, 1736.35it/s]\n",
            "100%|██████████| 490/490 [00:00<00:00, 1631.94it/s]\n",
            "100%|██████████| 490/490 [00:00<00:00, 1693.52it/s]\n",
            "100%|██████████| 490/490 [00:00<00:00, 1661.15it/s]\n",
            "100%|██████████| 492/492 [00:00<00:00, 1520.86it/s]\n",
            "100%|██████████| 492/492 [00:00<00:00, 1643.03it/s]\n",
            "100%|██████████| 492/492 [00:00<00:00, 1756.07it/s]\n",
            "100%|██████████| 300/300 [00:00<00:00, 1812.56it/s]\n",
            "100%|██████████| 738/738 [00:00<00:00, 1664.37it/s]\n",
            "100%|██████████| 492/492 [00:00<00:00, 1535.58it/s]\n",
            "100%|██████████| 738/738 [00:00<00:00, 1554.06it/s]\n",
            "100%|██████████| 420/420 [00:00<00:00, 1538.90it/s]\n",
            "100%|██████████| 493/493 [00:00<00:00, 1376.29it/s]\n",
            "100%|██████████| 429/429 [00:00<00:00, 1444.03it/s]\n",
            "100%|██████████| 490/490 [00:00<00:00, 1535.85it/s]\n",
            "100%|██████████| 490/490 [00:00<00:00, 1632.76it/s]\n",
            "100%|██████████| 492/492 [00:00<00:00, 1794.40it/s]\n",
            "100%|██████████| 464/464 [00:00<00:00, 1833.50it/s]\n",
            "100%|██████████| 490/490 [00:00<00:00, 1505.60it/s]\n",
            "100%|██████████| 490/490 [00:00<00:00, 1791.93it/s]\n",
            "100%|██████████| 738/738 [00:00<00:00, 1827.87it/s]\n",
            "100%|██████████| 492/492 [00:00<00:00, 1710.33it/s]\n",
            "100%|██████████| 490/490 [00:00<00:00, 1466.67it/s]\n",
            "100%|██████████| 492/492 [00:00<00:00, 1592.35it/s]\n",
            "100%|██████████| 492/492 [00:00<00:00, 1524.36it/s]\n",
            "100%|██████████| 492/492 [00:00<00:00, 1454.57it/s]\n",
            "100%|██████████| 490/490 [00:00<00:00, 1495.29it/s]\n",
            "100%|██████████| 490/490 [00:00<00:00, 1421.64it/s]\n",
            "100%|██████████| 466/466 [00:00<00:00, 1653.99it/s]\n",
            "100%|██████████| 450/450 [00:00<00:00, 1538.64it/s]\n",
            "100%|██████████| 490/490 [00:00<00:00, 1639.26it/s]\n",
            "100%|██████████| 490/490 [00:00<00:00, 1561.96it/s]\n",
            "100%|██████████| 492/492 [00:00<00:00, 1477.19it/s]\n",
            "100%|██████████| 984/984 [00:00<00:00, 1663.51it/s]\n",
            "100%|██████████| 492/492 [00:00<00:00, 1571.26it/s]\n",
            "100%|██████████| 490/490 [00:00<00:00, 1777.03it/s]\n",
            "100%|██████████| 479/479 [00:00<00:00, 1635.73it/s]\n",
            "100%|██████████| 490/490 [00:00<00:00, 1489.83it/s]\n",
            "100%|██████████| 490/490 [00:00<00:00, 1660.05it/s]\n",
            "100%|██████████| 450/450 [00:00<00:00, 1868.73it/s]\n",
            "100%|██████████| 738/738 [00:00<00:00, 1459.75it/s]\n",
            "100%|██████████| 490/490 [00:00<00:00, 1501.32it/s]\n",
            "100%|██████████| 490/490 [00:00<00:00, 1694.88it/s]\n",
            "100%|██████████| 490/490 [00:00<00:00, 1686.09it/s]\n",
            "100%|██████████| 490/490 [00:00<00:00, 1498.84it/s]\n",
            "100%|██████████| 492/492 [00:00<00:00, 1771.30it/s]\n",
            "100%|██████████| 490/490 [00:00<00:00, 1781.00it/s]\n",
            "100%|██████████| 450/450 [00:00<00:00, 1627.16it/s]\n",
            "100%|██████████| 492/492 [00:00<00:00, 1791.05it/s]\n",
            "100%|██████████| 490/490 [00:00<00:00, 1692.75it/s]\n",
            "100%|██████████| 490/490 [00:00<00:00, 978.97it/s] \n",
            "100%|██████████| 492/492 [00:00<00:00, 1768.85it/s]\n",
            "100%|██████████| 492/492 [00:00<00:00, 1643.66it/s]\n",
            "100%|██████████| 490/490 [00:00<00:00, 1799.56it/s]\n",
            "100%|██████████| 490/490 [00:00<00:00, 1583.43it/s]\n",
            "100%|██████████| 490/490 [00:00<00:00, 1512.71it/s]\n",
            "100%|██████████| 492/492 [00:00<00:00, 1649.77it/s]\n",
            "100%|██████████| 492/492 [00:00<00:00, 1422.89it/s]\n",
            "100%|██████████| 490/490 [00:00<00:00, 1627.06it/s]\n",
            "100%|██████████| 490/490 [00:00<00:00, 1628.36it/s]\n",
            "100%|██████████| 490/490 [00:00<00:00, 1909.80it/s]\n",
            "100%|██████████| 490/490 [00:00<00:00, 1522.62it/s]\n",
            "100%|██████████| 490/490 [00:00<00:00, 1824.29it/s]\n",
            "100%|██████████| 492/492 [00:00<00:00, 1644.11it/s]\n",
            "100%|██████████| 492/492 [00:00<00:00, 1407.87it/s]\n",
            "100%|██████████| 490/490 [00:00<00:00, 1672.13it/s]\n",
            "100%|██████████| 492/492 [00:00<00:00, 1631.94it/s]\n",
            "100%|██████████| 492/492 [00:00<00:00, 1575.19it/s]\n",
            "100%|██████████| 427/427 [00:00<00:00, 1773.77it/s]\n",
            "100%|██████████| 447/447 [00:00<00:00, 1610.98it/s]\n",
            "100%|██████████| 492/492 [00:00<00:00, 1535.62it/s]\n",
            "100%|██████████| 738/738 [00:00<00:00, 1571.69it/s]\n",
            "100%|██████████| 492/492 [00:00<00:00, 1672.20it/s]\n",
            "100%|██████████| 735/735 [00:00<00:00, 1543.06it/s]\n"
          ],
          "name": "stderr"
        }
      ]
    },
    {
      "metadata": {
        "id": "TiC2PmwnmsLM",
        "colab_type": "code",
        "outputId": "9ea068a3-60c7-4445-f9dc-b55f3bd8965e",
        "colab": {
          "base_uri": "https://localhost:8080/",
          "height": 305
        }
      },
      "cell_type": "code",
      "source": [
        "\"\"\"This is just made to see the Label and image.\n",
        "Just change the value of j to do so\"\"\"\n",
        "j=0\n",
        "print(train_data[j][1])\n",
        "plt.imshow(train_data[j][0])"
      ],
      "execution_count": 35,
      "outputs": [
        {
          "output_type": "stream",
          "text": [
            "Peach Flat\n"
          ],
          "name": "stdout"
        },
        {
          "output_type": "execute_result",
          "data": {
            "text/plain": [
              "<matplotlib.image.AxesImage at 0x7f7482b1a2b0>"
            ]
          },
          "metadata": {
            "tags": []
          },
          "execution_count": 35
        },
        {
          "output_type": "display_data",
          "data": {
            "image/png": "[encoded data removed]",
            "text/plain": [
              "<Figure size 432x288 with 1 Axes>"
            ]
          },
          "metadata": {
            "tags": []
          }
        }
      ]
    },
    {
      "metadata": {
        "id": "Tmg5dx0dB1Dy",
        "colab_type": "code",
        "colab": {}
      },
      "cell_type": "code",
      "source": [
        "arr_train_data = np.array(train_data)"
      ],
      "execution_count": 0,
      "outputs": []
    },
    {
      "metadata": {
        "id": "DOdNpFeTMNBu",
        "colab_type": "code",
        "outputId": "4acf521d-6eff-4a9e-e240-41d3a29bd10a",
        "colab": {
          "base_uri": "https://localhost:8080/",
          "height": 35
        }
      },
      "cell_type": "code",
      "source": [
        "arr_train_data.shape"
      ],
      "execution_count": 37,
      "outputs": [
        {
          "output_type": "execute_result",
          "data": {
            "text/plain": [
              "(48905, 2)"
            ]
          },
          "metadata": {
            "tags": []
          },
          "execution_count": 37
        }
      ]
    },
    {
      "metadata": {
        "id": "W4V1lESGNit-",
        "colab_type": "code",
        "outputId": "89571b05-7ef9-4982-e826-66e30a442dc9",
        "colab": {
          "base_uri": "https://localhost:8080/",
          "height": 55
        }
      },
      "cell_type": "code",
      "source": [
        "a = set(arr_train_data[:,1])\n",
        "print(a)"
      ],
      "execution_count": 38,
      "outputs": [
        {
          "output_type": "stream",
          "text": [
            "{'Tangelo', 'Limes', 'Pear Abate', 'Pear Kaiser', 'Pineapple', 'Tamarillo', 'Cherry Rainier', 'Salak', 'Plum 2', 'Banana', 'Kaki', 'Strawberry Wedge', 'Guava', 'Grapefruit Pink', 'Apricot', 'Avocado ripe', 'Strawberry', 'Dates', 'Redcurrant', 'Apple Red Delicious', 'Apple Braeburn', 'Lemon', 'Cherry 2', 'Apple Golden 1', 'Passion Fruit', 'Cherry 1', 'Avocado', 'Physalis with Husk', 'Grape Blue', 'Cherry Wax Black', 'Pear Monster', 'Tomato 3', 'Cantaloupe 2', 'Peach Flat', 'Orange', 'Lychee', 'Grape White 2', 'Tomato 4', 'Carambula', 'Mulberry', 'Mangostan', 'Tomato Cherry Red', 'Peach', 'Quince', 'Mango', 'Plum', 'Granadilla', 'Cherry Wax Red', 'Nectarine', 'Papaya', 'Walnut', 'Cactus fruit', 'Peach 2', 'Grape Pink', 'Physalis', 'Pitahaya Red', 'Grape White 4', 'Pear Williams', 'Grapefruit White', 'Tomato 2', 'Rambutan', 'Apple Golden 3', 'Mandarine', 'Raspberry', 'Cherry Wax Yellow', 'Apple Red Yellow 1', 'Apple Golden 2', 'Apple Red 1', 'Chestnut', 'Grape White 3', 'Kumquats', 'Clementine', 'Kiwi', 'Tomato 1', 'Pear', 'Plum 3', 'Apple Red 3', 'Apple Red 2', 'Pomelo Sweetie', 'Tomato Maroon', 'Apple Red Yellow 2', 'Huckleberry', 'Pepino', 'Pomegranate', 'Cantaloupe 1', 'Banana Red', 'Cocos', 'Hazelnut', 'Melon Piel de Sapo', 'Apple Granny Smith', 'Lemon Meyer', 'Banana Lady Finger', 'Grape White', 'Pineapple Mini', 'Maracuja'}\n"
          ],
          "name": "stdout"
        }
      ]
    },
    {
      "metadata": {
        "id": "G4ibjF3B7uH6",
        "colab_type": "code",
        "outputId": "3226ea65-c947-4ffd-f6e2-cae478eb0b51",
        "colab": {
          "base_uri": "https://localhost:8080/",
          "height": 1837
        }
      },
      "cell_type": "code",
      "source": [
        "fruit_list = arr_train_data[:,1]\n",
        "k = hot_encode(fruit_list)\n",
        "dic_f = []\n",
        "for i in range(len(k)):\n",
        "    dic_f.append([k[i].argmax(),fruit_list[i]])\n",
        "dic_f = dict(dic_f)\n",
        "dic_f"
      ],
      "execution_count": 39,
      "outputs": [
        {
          "output_type": "stream",
          "text": [
            "/usr/local/lib/python3.6/dist-packages/sklearn/preprocessing/_encoders.py:371: FutureWarning: The handling of integer data will change in version 0.22. Currently, the categories are determined based on the range [0, max(values)], while in the future they will be determined based on the unique values.\n",
            "If you want the future behaviour and silence this warning, you can specify \"categories='auto'\".\n",
            "In case you used a LabelEncoder before this OneHotEncoder to convert the categories to integers, then you can now use the OneHotEncoder directly.\n",
            "  warnings.warn(msg, FutureWarning)\n"
          ],
          "name": "stderr"
        },
        {
          "output_type": "execute_result",
          "data": {
            "text/plain": [
              "{0: 'Apple Braeburn',\n",
              " 1: 'Apple Golden 1',\n",
              " 2: 'Apple Golden 2',\n",
              " 3: 'Apple Golden 3',\n",
              " 4: 'Apple Granny Smith',\n",
              " 5: 'Apple Red 1',\n",
              " 6: 'Apple Red 2',\n",
              " 7: 'Apple Red 3',\n",
              " 8: 'Apple Red Delicious',\n",
              " 9: 'Apple Red Yellow 1',\n",
              " 10: 'Apple Red Yellow 2',\n",
              " 11: 'Apricot',\n",
              " 12: 'Avocado',\n",
              " 13: 'Avocado ripe',\n",
              " 14: 'Banana',\n",
              " 15: 'Banana Lady Finger',\n",
              " 16: 'Banana Red',\n",
              " 17: 'Cactus fruit',\n",
              " 18: 'Cantaloupe 1',\n",
              " 19: 'Cantaloupe 2',\n",
              " 20: 'Carambula',\n",
              " 21: 'Cherry 1',\n",
              " 22: 'Cherry 2',\n",
              " 23: 'Cherry Rainier',\n",
              " 24: 'Cherry Wax Black',\n",
              " 25: 'Cherry Wax Red',\n",
              " 26: 'Cherry Wax Yellow',\n",
              " 27: 'Chestnut',\n",
              " 28: 'Clementine',\n",
              " 29: 'Cocos',\n",
              " 30: 'Dates',\n",
              " 31: 'Granadilla',\n",
              " 32: 'Grape Blue',\n",
              " 33: 'Grape Pink',\n",
              " 34: 'Grape White',\n",
              " 35: 'Grape White 2',\n",
              " 36: 'Grape White 3',\n",
              " 37: 'Grape White 4',\n",
              " 38: 'Grapefruit Pink',\n",
              " 39: 'Grapefruit White',\n",
              " 40: 'Guava',\n",
              " 41: 'Hazelnut',\n",
              " 42: 'Huckleberry',\n",
              " 43: 'Kaki',\n",
              " 44: 'Kiwi',\n",
              " 45: 'Kumquats',\n",
              " 46: 'Lemon',\n",
              " 47: 'Lemon Meyer',\n",
              " 48: 'Limes',\n",
              " 49: 'Lychee',\n",
              " 50: 'Mandarine',\n",
              " 51: 'Mango',\n",
              " 52: 'Mangostan',\n",
              " 53: 'Maracuja',\n",
              " 54: 'Melon Piel de Sapo',\n",
              " 55: 'Mulberry',\n",
              " 56: 'Nectarine',\n",
              " 57: 'Orange',\n",
              " 58: 'Papaya',\n",
              " 59: 'Passion Fruit',\n",
              " 60: 'Peach',\n",
              " 61: 'Peach 2',\n",
              " 62: 'Peach Flat',\n",
              " 63: 'Pear',\n",
              " 64: 'Pear Abate',\n",
              " 65: 'Pear Kaiser',\n",
              " 66: 'Pear Monster',\n",
              " 67: 'Pear Williams',\n",
              " 68: 'Pepino',\n",
              " 69: 'Physalis',\n",
              " 70: 'Physalis with Husk',\n",
              " 71: 'Pineapple',\n",
              " 72: 'Pineapple Mini',\n",
              " 73: 'Pitahaya Red',\n",
              " 74: 'Plum',\n",
              " 75: 'Plum 2',\n",
              " 76: 'Plum 3',\n",
              " 77: 'Pomegranate',\n",
              " 78: 'Pomelo Sweetie',\n",
              " 79: 'Quince',\n",
              " 80: 'Rambutan',\n",
              " 81: 'Raspberry',\n",
              " 82: 'Redcurrant',\n",
              " 83: 'Salak',\n",
              " 84: 'Strawberry',\n",
              " 85: 'Strawberry Wedge',\n",
              " 86: 'Tamarillo',\n",
              " 87: 'Tangelo',\n",
              " 88: 'Tomato 1',\n",
              " 89: 'Tomato 2',\n",
              " 90: 'Tomato 3',\n",
              " 91: 'Tomato 4',\n",
              " 92: 'Tomato Cherry Red',\n",
              " 93: 'Tomato Maroon',\n",
              " 94: 'Walnut'}"
            ]
          },
          "metadata": {
            "tags": []
          },
          "execution_count": 39
        }
      ]
    },
    {
      "metadata": {
        "id": "pZL27btfFk3J",
        "colab_type": "code",
        "colab": {}
      },
      "cell_type": "code",
      "source": [
        "\"\"\"Replacing string label with hot encoded label\"\"\"\n",
        "count = 0\n",
        "for item in k:\n",
        "    arr_train_data[:,1][count] = k[count]\n",
        "    count+=1"
      ],
      "execution_count": 0,
      "outputs": []
    },
    {
      "metadata": {
        "id": "9zXGVbIwMkvo",
        "colab_type": "code",
        "colab": {}
      },
      "cell_type": "code",
      "source": [
        "train = arr_train_data[:-10000]\n",
        "test = arr_train_data[-10000:]"
      ],
      "execution_count": 0,
      "outputs": []
    },
    {
      "metadata": {
        "id": "tHlUYpKJc8xh",
        "colab_type": "code",
        "outputId": "1ebdbc82-c9e4-4a99-db1a-7c1c562256ca",
        "colab": {
          "base_uri": "https://localhost:8080/",
          "height": 35
        }
      },
      "cell_type": "code",
      "source": [
        "train.shape"
      ],
      "execution_count": 42,
      "outputs": [
        {
          "output_type": "execute_result",
          "data": {
            "text/plain": [
              "(38905, 2)"
            ]
          },
          "metadata": {
            "tags": []
          },
          "execution_count": 42
        }
      ]
    },
    {
      "metadata": {
        "id": "fhZ4Sdntc-z5",
        "colab_type": "code",
        "outputId": "da075679-91a6-40b4-d732-3f689a0ceb98",
        "colab": {
          "base_uri": "https://localhost:8080/",
          "height": 35
        }
      },
      "cell_type": "code",
      "source": [
        "test.shape"
      ],
      "execution_count": 43,
      "outputs": [
        {
          "output_type": "execute_result",
          "data": {
            "text/plain": [
              "(10000, 2)"
            ]
          },
          "metadata": {
            "tags": []
          },
          "execution_count": 43
        }
      ]
    },
    {
      "metadata": {
        "id": "tGI9MYZNdF5X",
        "colab_type": "code",
        "colab": {}
      },
      "cell_type": "code",
      "source": [
        "X = np.array([i[0] for i in train]).reshape(-1,IMG_SIZE,IMG_SIZE,3)\n",
        "Y = [i[1] for i in train]\n",
        "\n",
        "test_x = np.array([i[0] for i in test]).reshape(-1,IMG_SIZE,IMG_SIZE,3)\n",
        "test_y = [i[1] for i in test]"
      ],
      "execution_count": 0,
      "outputs": []
    },
    {
      "metadata": {
        "id": "PCRbWq5J0PuX",
        "colab_type": "code",
        "colab": {}
      },
      "cell_type": "code",
      "source": [
        "Y = np.array(Y)\n",
        "test_y = np.array(test_y)"
      ],
      "execution_count": 0,
      "outputs": []
    },
    {
      "metadata": {
        "id": "rlEuk0p_3cdn",
        "colab_type": "code",
        "outputId": "0d64e57c-b9ee-45d4-ba95-14301addddd4",
        "colab": {
          "base_uri": "https://localhost:8080/",
          "height": 581
        }
      },
      "cell_type": "code",
      "source": [
        "from keras.models import Sequential\n",
        "from keras.layers import Dense, Conv2D, Flatten,MaxPooling2D,Dropout\n",
        "#create model\n",
        "model = Sequential()\n",
        "#add model layers\n",
        "model.add(Conv2D(64, kernel_size=(3,3), activation=\"relu\", input_shape=(100,100,3)))\n",
        "model.add(MaxPooling2D((3,3)))\n",
        "model.add(Conv2D(128, kernel_size=(3,3), activation=\"relu\"))\n",
        "model.add(MaxPooling2D((3,3)))\n",
        "model.add(Conv2D(256, kernel_size=(3,3), activation=\"relu\"))\n",
        "model.add(MaxPooling2D((3,3)))\n",
        "model.add(Flatten())\n",
        "model.add(Dense(500,activation=\"relu\"))\n",
        "model.add(Dropout(rate=0.2))\n",
        "model.add(Dense(256,activation=\"relu\"))\n",
        "model.add(Dropout(rate=0.2))\n",
        "model.add(Dense(95, activation=\"softmax\"))\n",
        "model.compile(optimizer='adam', loss='categorical_crossentropy', metrics=['accuracy'])\n",
        "model.summary()"
      ],
      "execution_count": 46,
      "outputs": [
        {
          "output_type": "stream",
          "text": [
            "_________________________________________________________________\n",
            "Layer (type)                 Output Shape              Param #   \n",
            "=================================================================\n",
            "conv2d_4 (Conv2D)            (None, 98, 98, 64)        1792      \n",
            "_________________________________________________________________\n",
            "max_pooling2d_4 (MaxPooling2 (None, 32, 32, 64)        0         \n",
            "_________________________________________________________________\n",
            "conv2d_5 (Conv2D)            (None, 30, 30, 128)       73856     \n",
            "_________________________________________________________________\n",
            "max_pooling2d_5 (MaxPooling2 (None, 10, 10, 128)       0         \n",
            "_________________________________________________________________\n",
            "conv2d_6 (Conv2D)            (None, 8, 8, 256)         295168    \n",
            "_________________________________________________________________\n",
            "max_pooling2d_6 (MaxPooling2 (None, 2, 2, 256)         0         \n",
            "_________________________________________________________________\n",
            "flatten_2 (Flatten)          (None, 1024)              0         \n",
            "_________________________________________________________________\n",
            "dense_4 (Dense)              (None, 500)               512500    \n",
            "_________________________________________________________________\n",
            "dropout_3 (Dropout)          (None, 500)               0         \n",
            "_________________________________________________________________\n",
            "dense_5 (Dense)              (None, 256)               128256    \n",
            "_________________________________________________________________\n",
            "dropout_4 (Dropout)          (None, 256)               0         \n",
            "_________________________________________________________________\n",
            "dense_6 (Dense)              (None, 95)                24415     \n",
            "=================================================================\n",
            "Total params: 1,035,987\n",
            "Trainable params: 1,035,987\n",
            "Non-trainable params: 0\n",
            "_________________________________________________________________\n"
          ],
          "name": "stdout"
        }
      ]
    },
    {
      "metadata": {
        "id": "zbyWpnpv5ENL",
        "colab_type": "code",
        "outputId": "334eb4db-12f2-4ce6-e05b-7c0f15748c53",
        "colab": {
          "base_uri": "https://localhost:8080/",
          "height": 619
        }
      },
      "cell_type": "code",
      "source": [
        "model.fit(X,Y, validation_data=(test_x, test_y),batch_size=500,epochs=15,verbose=1)"
      ],
      "execution_count": 47,
      "outputs": [
        {
          "output_type": "stream",
          "text": [
            "Train on 38905 samples, validate on 10000 samples\n",
            "Epoch 1/15\n",
            "38905/38905 [==============================] - 35s 896us/step - loss: 4.2336 - acc: 0.3932 - val_loss: 0.2015 - val_acc: 0.9422\n",
            "Epoch 2/15\n",
            "38905/38905 [==============================] - 34s 867us/step - loss: 0.1835 - acc: 0.9414 - val_loss: 0.0258 - val_acc: 0.9936\n",
            "Epoch 3/15\n",
            "38905/38905 [==============================] - 34s 868us/step - loss: 0.0569 - acc: 0.9824 - val_loss: 0.0036 - val_acc: 0.9992\n",
            "Epoch 4/15\n",
            "38905/38905 [==============================] - 32s 814us/step - loss: 0.0256 - acc: 0.9926 - val_loss: 0.0019 - val_acc: 0.9994\n",
            "Epoch 5/15\n",
            "38905/38905 [==============================] - 34s 875us/step - loss: 0.0418 - acc: 0.9864 - val_loss: 0.0024 - val_acc: 0.9994\n",
            "Epoch 6/15\n",
            "38905/38905 [==============================] - 34s 873us/step - loss: 0.0205 - acc: 0.9939 - val_loss: 0.0025 - val_acc: 0.9993\n",
            "Epoch 7/15\n",
            "38905/38905 [==============================] - 34s 869us/step - loss: 0.0185 - acc: 0.9947 - val_loss: 0.0012 - val_acc: 0.9998\n",
            "Epoch 8/15\n",
            "38905/38905 [==============================] - 34s 874us/step - loss: 0.0245 - acc: 0.9925 - val_loss: 0.0042 - val_acc: 0.9992\n",
            "Epoch 9/15\n",
            "38905/38905 [==============================] - 34s 875us/step - loss: 0.0844 - acc: 0.9752 - val_loss: 0.0533 - val_acc: 0.9836\n",
            "Epoch 10/15\n",
            "38905/38905 [==============================] - 34s 869us/step - loss: 0.0225 - acc: 0.9932 - val_loss: 3.1260e-04 - val_acc: 1.0000\n",
            "Epoch 11/15\n",
            "38905/38905 [==============================] - 34s 874us/step - loss: 0.0075 - acc: 0.9977 - val_loss: 2.5005e-04 - val_acc: 1.0000\n",
            "Epoch 12/15\n",
            "38905/38905 [==============================] - 34s 872us/step - loss: 0.0042 - acc: 0.9989 - val_loss: 0.0035 - val_acc: 0.9990\n",
            "Epoch 13/15\n",
            "38905/38905 [==============================] - 34s 878us/step - loss: 0.0166 - acc: 0.9951 - val_loss: 0.0123 - val_acc: 0.9960\n",
            "Epoch 14/15\n",
            "38905/38905 [==============================] - 32s 816us/step - loss: 0.0152 - acc: 0.9959 - val_loss: 8.4913e-04 - val_acc: 0.9997\n",
            "Epoch 15/15\n",
            "38905/38905 [==============================] - 34s 870us/step - loss: 0.0086 - acc: 0.9973 - val_loss: 9.9903e-04 - val_acc: 0.9997\n"
          ],
          "name": "stdout"
        },
        {
          "output_type": "execute_result",
          "data": {
            "text/plain": [
              "<keras.callbacks.History at 0x7f7482fbc518>"
            ]
          },
          "metadata": {
            "tags": []
          },
          "execution_count": 47
        }
      ]
    },
    {
      "metadata": {
        "id": "5PugN6ieD-UX",
        "colab_type": "code",
        "colab": {}
      },
      "cell_type": "code",
      "source": [
        "img = cv2.imread(\"/content/straw.jpeg\")#this image does not belong to testing set, it is a downloaded image\n",
        "img = cv2.cvtColor(img,cv2.COLOR_BGR2RGB)\n",
        "img = cv2.resize(img, (IMG_SIZE,IMG_SIZE))\n",
        "img = np.array(img)\n",
        "img = img.reshape(-1,100,100,3)"
      ],
      "execution_count": 0,
      "outputs": []
    },
    {
      "metadata": {
        "id": "xekCPCRDE1MQ",
        "colab_type": "code",
        "colab": {
          "base_uri": "https://localhost:8080/",
          "height": 287
        },
        "outputId": "8a6edae0-e55c-40ef-fdcf-e42578bce877"
      },
      "cell_type": "code",
      "source": [
        "plt.imshow(img.reshape(100,100,3))"
      ],
      "execution_count": 49,
      "outputs": [
        {
          "output_type": "execute_result",
          "data": {
            "text/plain": [
              "<matplotlib.image.AxesImage at 0x7f749b65bd68>"
            ]
          },
          "metadata": {
            "tags": []
          },
          "execution_count": 49
        },
        {
          "output_type": "display_data",
          "data": {
            "image/png": "[encoded data removed]",
            "text/plain": [
              "<Figure size 432x288 with 1 Axes>"
            ]
          },
          "metadata": {
            "tags": []
          }
        }
      ]
    },
    {
      "metadata": {
        "id": "ipSaKj_kBKev",
        "colab_type": "code",
        "colab": {}
      },
      "cell_type": "code",
      "source": [
        "predict = model.predict([img])"
      ],
      "execution_count": 0,
      "outputs": []
    },
    {
      "metadata": {
        "id": "UGLE0h9dE97E",
        "colab_type": "code",
        "colab": {
          "base_uri": "https://localhost:8080/",
          "height": 35
        },
        "outputId": "ec611143-8b28-4712-a118-cab13de35b49"
      },
      "cell_type": "code",
      "source": [
        "dic_f[predict.argmax()]"
      ],
      "execution_count": 51,
      "outputs": [
        {
          "output_type": "execute_result",
          "data": {
            "text/plain": [
              "'Strawberry'"
            ]
          },
          "metadata": {
            "tags": []
          },
          "execution_count": 51
        }
      ]
    }
  ]
}